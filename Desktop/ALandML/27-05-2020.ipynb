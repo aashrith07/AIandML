{
 "cells": [
  {
   "cell_type": "markdown",
   "metadata": {},
   "source": [
    "Headings:"
   ]
  },
  {
   "cell_type": "markdown",
   "metadata": {},
   "source": [
    "# python programming\n",
    "## python programming\n",
    "### python programming\n",
    "#### pyhton programming\n",
    "##### python prog\n",
    "###### python prog"
   ]
  },
  {
   "cell_type": "code",
   "execution_count": 1,
   "metadata": {},
   "outputs": [
    {
     "name": "stdout",
     "output_type": "stream",
     "text": [
      "Hello!!\n"
     ]
    }
   ],
   "source": [
    "print(\"Hello!!\")"
   ]
  },
  {
   "cell_type": "markdown",
   "metadata": {},
   "source": [
    "### List of Prog Languages:(Ordered List)\n",
    "1. Python\n",
    "2. Java\n",
    "3. C\n",
    "4. C++\n",
    "5. .Net"
   ]
  },
  {
   "cell_type": "markdown",
   "metadata": {},
   "source": [
    "### List of Prog Languages:(Unordered List)\n",
    "- Python\n",
    "    - core python\n",
    "    - ADV python\n",
    "- Java\n",
    "- C\n",
    "- C++\n",
    "- .Net"
   ]
  },
  {
   "cell_type": "markdown",
   "metadata": {},
   "source": [
    "- **Python Programming**\n",
    "- *python Programming*"
   ]
  },
  {
   "cell_type": "markdown",
   "metadata": {},
   "source": [
    "[click here for documentation](https://docs.google.com/document/d/1NUWRUi53uEEP8sUAKZGx4nDbi3ExZf0GUEpE5vi8n34/preview?pru=AAABcnlXXfw*ZkWj9FbGLQ2mcTJTjXyHig)"
   ]
  },
  {
   "cell_type": "markdown",
   "metadata": {},
   "source": [
    "![image](https://shreyaset.com/wp-content/uploads/2020/05/EXkrilOUMAAzT0M.jpeg)"
   ]
  },
  {
   "cell_type": "markdown",
   "metadata": {},
   "source": [
    "<img src=\"https://shreyaset.com/wp-content/uploads/2020/05/EXkrilOUMAAzT0M.jpeg\" width=200 height=200>"
   ]
  },
  {
   "cell_type": "markdown",
   "metadata": {},
   "source": [
    "# Introduction to Python\n",
    "1. Different paradigms\n",
    "2. Interpreted PL\n",
    "3. open source\n",
    "4. Object oriented PL\n",
    "\n",
    "### Guido Van Rossum"
   ]
  },
  {
   "cell_type": "markdown",
   "metadata": {},
   "source": [
    "# Numeric Data types:\n",
    "1. int\n",
    "2. float\n",
    "3. complex"
   ]
  },
  {
   "cell_type": "code",
   "execution_count": 4,
   "metadata": {},
   "outputs": [
    {
     "name": "stdout",
     "output_type": "stream",
     "text": [
      "<class 'int'> <class 'float'> <class 'complex'>\n"
     ]
    }
   ],
   "source": [
    "a = 10\n",
    "b = 23.34\n",
    "c = 12+3j\n",
    "\n",
    "print(type(a),type(b),type(c))"
   ]
  },
  {
   "cell_type": "code",
   "execution_count": 6,
   "metadata": {},
   "outputs": [
    {
     "name": "stdout",
     "output_type": "stream",
     "text": [
      "(10+13j)\n",
      "6.0\n",
      "8.0\n"
     ]
    }
   ],
   "source": [
    "c1 = 4+5j\n",
    "c2 = complex(6,8)\n",
    "print(c1+c2)\n",
    "print(c2.real)\n",
    "print(c2.imag)"
   ]
  },
  {
   "cell_type": "code",
   "execution_count": 10,
   "metadata": {},
   "outputs": [
    {
     "name": "stdout",
     "output_type": "stream",
     "text": [
      "Enter the value of a10\n",
      "Enter the value of b20\n",
      "30 -10,200,0.5\n"
     ]
    }
   ],
   "source": [
    "#input and output functions\n",
    "#input -->input()\n",
    "#output -->print()\n",
    "a = int(input(\"Enter the value of a\"))\n",
    "b = int(input(\"Enter the value of b\"))\n",
    "print(a+b,end=\" \")\n",
    "print(a-b,a*b,a/b,sep=\",\")\n",
    "\n"
   ]
  },
  {
   "cell_type": "markdown",
   "metadata": {},
   "source": [
    "# Operators:symbol which performs some specific task\n",
    "# Operands: values given to operators are known as operators"
   ]
  },
  {
   "cell_type": "code",
   "execution_count": 11,
   "metadata": {},
   "outputs": [
    {
     "name": "stdout",
     "output_type": "stream",
     "text": [
      "enter a value10\n",
      "enter b value5\n",
      "15\n",
      "5\n",
      "50\n",
      "2.0\n",
      "0\n",
      "2\n",
      "100000\n"
     ]
    }
   ],
   "source": [
    "#Arithmetic operators:+,-,*,/,%,//(floor division),**(exponents)\n",
    "a = int(input(\"enter a value\"))\n",
    "b = int(input(\"enter b value\"))\n",
    "print(a+b)\n",
    "print(a-b)\n",
    "print(a*b)\n",
    "print(a/b)\n",
    "print(a%b)\n",
    "print(a//b)\n",
    "print(a**b)"
   ]
  },
  {
   "cell_type": "code",
   "execution_count": 13,
   "metadata": {},
   "outputs": [
    {
     "name": "stdout",
     "output_type": "stream",
     "text": [
      "False\n",
      "True\n",
      "False\n",
      "True\n",
      "False\n",
      "True\n"
     ]
    }
   ],
   "source": [
    "#Relational operator:<,>,<=.>=,==,!=\n",
    "print(a < b)\n",
    "print(a>b)\n",
    "print(a<=b)\n",
    "print(a>=b)\n",
    "print(a==b)\n",
    "print(a!=b)\n",
    "\n"
   ]
  },
  {
   "cell_type": "code",
   "execution_count": 18,
   "metadata": {},
   "outputs": [
    {
     "name": "stdout",
     "output_type": "stream",
     "text": [
      "False\n",
      "True\n",
      "True\n"
     ]
    }
   ],
   "source": [
    "#logical Operators: and,or,not\n",
    "#print(help(\"keywords\"))\n",
    "print(a < b and a>1)\n",
    "print(a < b or a>1)\n",
    "print(not a < b)"
   ]
  },
  {
   "cell_type": "code",
   "execution_count": 19,
   "metadata": {},
   "outputs": [
    {
     "name": "stdout",
     "output_type": "stream",
     "text": [
      "True\n",
      "False\n",
      "False\n",
      "True\n"
     ]
    }
   ],
   "source": [
    "#Membership operators : in,not in\n",
    "list1 = [12,23,34,45,56,67]\n",
    "print(12 in list1)\n",
    "print(120 in list1)\n",
    "print(12 not in list1)\n",
    "print(120 not in list1)"
   ]
  },
  {
   "cell_type": "code",
   "execution_count": 20,
   "metadata": {},
   "outputs": [
    {
     "name": "stdout",
     "output_type": "stream",
     "text": [
      "a is greater or equals to b\n"
     ]
    }
   ],
   "source": [
    "#conditional statements:if,else,elif\n",
    "if a < b:\n",
    "    print(\"a is less than b\")\n",
    "elif a>b:\n",
    "    print(\"a is greater or equals to b\")\n",
    "else:\n",
    "    print(\"a or equals to b\")"
   ]
  },
  {
   "cell_type": "code",
   "execution_count": 21,
   "metadata": {},
   "outputs": [
    {
     "name": "stdout",
     "output_type": "stream",
     "text": [
      "enter a value5\n",
      "enter b value6\n",
      "enter c value7\n",
      "largest number is c: 7\n"
     ]
    }
   ],
   "source": [
    "a = int(input(\"enter a value\"))\n",
    "b = int(input(\"enter b value\"))\n",
    "c = int(input(\"enter c value\"))\n",
    "if a>b and a>c:\n",
    "    print(\"largest number is a:\",a)\n",
    "elif b>c:\n",
    "    print(\"largest number is b:\",b)\n",
    "else:\n",
    "    print(\"largest number is c:\",c)\n"
   ]
  },
  {
   "cell_type": "code",
   "execution_count": 22,
   "metadata": {},
   "outputs": [
    {
     "name": "stdout",
     "output_type": "stream",
     "text": [
      "enter n value10\n",
      "1 2 3 4 5 6 7 8 9 10 "
     ]
    }
   ],
   "source": [
    "#Loops : while,for\n",
    "# print 1 to n values\n",
    "n = int(input(\"enter n value\"))\n",
    "i = 1\n",
    "while i<=n:\n",
    "    print(i,end=\" \")\n",
    "    i += 1#i=i+1\n",
    "\n"
   ]
  },
  {
   "cell_type": "code",
   "execution_count": null,
   "metadata": {},
   "outputs": [],
   "source": []
  }
 ],
 "metadata": {
  "kernelspec": {
   "display_name": "Python 3",
   "language": "python",
   "name": "python3"
  },
  "language_info": {
   "codemirror_mode": {
    "name": "ipython",
    "version": 3
   },
   "file_extension": ".py",
   "mimetype": "text/x-python",
   "name": "python",
   "nbconvert_exporter": "python",
   "pygments_lexer": "ipython3",
   "version": "3.7.4"
  }
 },
 "nbformat": 4,
 "nbformat_minor": 2
}
